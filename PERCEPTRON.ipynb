{
 "cells": [
  {
   "cell_type": "code",
   "execution_count": 1,
   "metadata": {},
   "outputs": [],
   "source": [
    "import numpy as np\n",
    "import matplotlib.pyplot as plt\n",
    "from sklearn.datasets import make_blobs"
   ]
  },
  {
   "cell_type": "code",
   "execution_count": 2,
   "metadata": {},
   "outputs": [],
   "source": [
    "make_blobs?\n"
   ]
  },
  {
   "cell_type": "code",
   "execution_count": 3,
   "metadata": {},
   "outputs": [],
   "source": [
    "x,y = make_blobs(n_samples = 500,n_features = 2,centers = 2,random_state = 10)"
   ]
  },
  {
   "cell_type": "code",
   "execution_count": 4,
   "metadata": {},
   "outputs": [
    {
     "data": {
      "text/plain": [
       "<matplotlib.collections.PathCollection at 0x11630f72c88>"
      ]
     },
     "execution_count": 4,
     "metadata": {},
     "output_type": "execute_result"
    },
    {
     "data": {
      "image/png": "[encoded data removed]",
      "text/plain": [
       "<Figure size 432x288 with 1 Axes>"
      ]
     },
     "metadata": {
      "needs_background": "light"
     },
     "output_type": "display_data"
    }
   ],
   "source": [
    "plt.scatter(x[:,0],x[:,1],c = y)"
   ]
  },
  {
   "cell_type": "markdown",
   "metadata": {},
   "source": [
    "# Now implementing the perceptron"
   ]
  },
  {
   "cell_type": "code",
   "execution_count": 6,
   "metadata": {},
   "outputs": [],
   "source": [
    "def sigmoid(z):\n",
    "    return (1.0)/(1+np.exp(-z))"
   ]
  },
  {
   "cell_type": "code",
   "execution_count": 7,
   "metadata": {},
   "outputs": [
    {
     "data": {
      "text/plain": [
       "array([0.73105858, 0.88079708, 0.95257413, 0.98201379, 0.99330715])"
      ]
     },
     "execution_count": 7,
     "metadata": {},
     "output_type": "execute_result"
    }
   ],
   "source": [
    "sigmoid(np.array([1,2,3,4,5]))"
   ]
  },
  {
   "cell_type": "code",
   "execution_count": 9,
   "metadata": {},
   "outputs": [],
   "source": [
    "def predict(x_test,weights):\n",
    "    pred = np.dot(x_test,weights)\n",
    "    pred = sigmoid(pred)\n",
    "    return pred"
   ]
  },
  {
   "cell_type": "code",
   "execution_count": 14,
   "metadata": {},
   "outputs": [],
   "source": [
    "def logloss(x,y,weights):\n",
    "    y_ = predict(x,weights)\n",
    "    loss = np.mean(-y*np.log(y_)-(1-y)*np.log(1-y_))\n",
    "    return loss"
   ]
  },
  {
   "cell_type": "code",
   "execution_count": 11,
   "metadata": {},
   "outputs": [],
   "source": [
    "def update(x,y,weights,lr):\n",
    "    y_ = predict(x,weights)\n",
    "    dw = np.dot(x.T,y_-y)\n",
    "    m  = x.shape[0]\n",
    "    weights  = weights -lr*dw/(float(m))\n",
    "    return weights"
   ]
  },
  {
   "cell_type": "code",
   "execution_count": 12,
   "metadata": {},
   "outputs": [],
   "source": [
    "def train(x,y,learn_rate,epochs):\n",
    "    ones = np.ones((x.shape[0],1))\n",
    "    x = np.hstack((ones,x))\n",
    "    \n",
    "    weights = np.zeros(x.shape[1])\n",
    "    \n",
    "    for i in range(epochs):\n",
    "        weights = update(x,y,weights,learn_rate)\n",
    "        if i%20==0:\n",
    "            l = logloss(x,y,weights)\n",
    "            print(\"epoch :%d loss : %.4f\"%(i,l))\n",
    "    return weights"
   ]
  },
  {
   "cell_type": "code",
   "execution_count": 18,
   "metadata": {},
   "outputs": [
    {
     "name": "stdout",
     "output_type": "stream",
     "text": [
      "epoch :0 loss : 0.0006\n",
      "epoch :20 loss : 0.0005\n",
      "epoch :40 loss : 0.0005\n",
      "epoch :60 loss : 0.0004\n",
      "epoch :80 loss : 0.0004\n",
      "epoch :100 loss : 0.0004\n",
      "epoch :120 loss : 0.0003\n",
      "epoch :140 loss : 0.0003\n",
      "epoch :160 loss : 0.0003\n",
      "epoch :180 loss : 0.0003\n",
      "epoch :200 loss : 0.0003\n",
      "epoch :220 loss : 0.0002\n",
      "epoch :240 loss : 0.0002\n",
      "epoch :260 loss : 0.0002\n",
      "epoch :280 loss : 0.0002\n"
     ]
    }
   ],
   "source": [
    "weights = train(x,y,0.5,300)"
   ]
  },
  {
   "cell_type": "code",
   "execution_count": 19,
   "metadata": {},
   "outputs": [],
   "source": [
    "def getPredict(x_test,weights,labels = True):\n",
    "    if x_test.shape[1]!= weights.shape[0]:\n",
    "        ones = np.ones((x_test.shape[0],1))\n",
    "        x_test = np.hstack((ones,x_test))\n",
    "    prob = predict(x_test,weights)\n",
    "    if not labels:\n",
    "        return prob\n",
    "    else:\n",
    "        labels = np.zeros(prob.shape)\n",
    "        labels[prob>0.5] = 1\n",
    "        return labels"
   ]
  },
  {
   "cell_type": "code",
   "execution_count": 20,
   "metadata": {},
   "outputs": [],
   "source": [
    "y_pred = getPredict(x,weights)"
   ]
  },
  {
   "cell_type": "code",
   "execution_count": 23,
   "metadata": {},
   "outputs": [],
   "source": [
    "from sklearn.model_selection import train_test_split"
   ]
  },
  {
   "cell_type": "code",
   "execution_count": 24,
   "metadata": {},
   "outputs": [],
   "source": [
    "x_train,x_test,y_train,y_test = train_test_split(x,y,test_size = 0.33)\n"
   ]
  },
  {
   "cell_type": "code",
   "execution_count": 28,
   "metadata": {},
   "outputs": [
    {
     "name": "stdout",
     "output_type": "stream",
     "text": [
      "epoch :0 loss : 0.0006\n",
      "epoch :20 loss : 0.0005\n",
      "epoch :40 loss : 0.0004\n",
      "epoch :60 loss : 0.0004\n",
      "epoch :80 loss : 0.0004\n",
      "epoch :100 loss : 0.0003\n",
      "epoch :120 loss : 0.0003\n",
      "epoch :140 loss : 0.0003\n",
      "epoch :160 loss : 0.0003\n",
      "epoch :180 loss : 0.0003\n",
      "epoch :200 loss : 0.0003\n",
      "epoch :220 loss : 0.0002\n",
      "epoch :240 loss : 0.0002\n",
      "epoch :260 loss : 0.0002\n",
      "epoch :280 loss : 0.0002\n",
      "epoch :300 loss : 0.0002\n",
      "epoch :320 loss : 0.0002\n",
      "epoch :340 loss : 0.0002\n",
      "epoch :360 loss : 0.0002\n",
      "epoch :380 loss : 0.0002\n",
      "epoch :400 loss : 0.0002\n",
      "epoch :420 loss : 0.0002\n",
      "epoch :440 loss : 0.0002\n",
      "epoch :460 loss : 0.0001\n",
      "epoch :480 loss : 0.0001\n"
     ]
    }
   ],
   "source": [
    "w = train(x_train,y_train,0.5,500)"
   ]
  },
  {
   "cell_type": "code",
   "execution_count": 29,
   "metadata": {},
   "outputs": [],
   "source": [
    "y_ped  = getPredict(x_test,w)"
   ]
  },
  {
   "cell_type": "code",
   "execution_count": 30,
   "metadata": {},
   "outputs": [
    {
     "data": {
      "text/plain": [
       "array([ True,  True,  True,  True,  True,  True,  True,  True,  True,\n",
       "        True,  True,  True,  True,  True,  True,  True,  True,  True,\n",
       "        True,  True,  True,  True,  True,  True,  True,  True,  True,\n",
       "        True,  True,  True,  True,  True,  True,  True,  True,  True,\n",
       "        True,  True,  True,  True,  True,  True,  True,  True,  True,\n",
       "        True,  True,  True,  True,  True,  True,  True,  True,  True,\n",
       "        True,  True,  True,  True,  True,  True,  True,  True,  True,\n",
       "        True,  True,  True,  True,  True,  True,  True,  True,  True,\n",
       "        True,  True,  True,  True,  True,  True,  True,  True,  True,\n",
       "        True,  True,  True,  True,  True,  True,  True,  True,  True,\n",
       "        True,  True,  True,  True,  True,  True,  True,  True,  True,\n",
       "        True,  True,  True,  True,  True,  True,  True,  True,  True,\n",
       "        True,  True,  True,  True,  True,  True,  True,  True,  True,\n",
       "        True,  True,  True,  True,  True,  True,  True,  True,  True,\n",
       "        True,  True,  True,  True,  True,  True,  True,  True,  True,\n",
       "        True,  True,  True,  True,  True,  True,  True,  True,  True,\n",
       "        True,  True,  True,  True,  True,  True,  True,  True,  True,\n",
       "        True,  True,  True,  True,  True,  True,  True,  True,  True,\n",
       "        True,  True,  True])"
      ]
     },
     "execution_count": 30,
     "metadata": {},
     "output_type": "execute_result"
    }
   ],
   "source": [
    "y_ped==y_test"
   ]
  },
  {
   "cell_type": "code",
   "execution_count": 31,
   "metadata": {},
   "outputs": [
    {
     "data": {
      "text/plain": [
       "array([ 0.06043974, -0.21193002,  2.06648976])"
      ]
     },
     "execution_count": 31,
     "metadata": {},
     "output_type": "execute_result"
    }
   ],
   "source": [
    "w"
   ]
  },
  {
   "cell_type": "code",
   "execution_count": 32,
   "metadata": {},
   "outputs": [
    {
     "name": "stdout",
     "output_type": "stream",
     "text": [
      "[1 0 1 1 0 1 0 1 1 0 1 0 0 0 0 0 0 1 1 1 1 1 1 1 0 1 1 1 1 1 1 0 1 0 0 1 0\n",
      " 0 1 0 1 1 1 1 1 1 1 0 1 0 1 0 0 0 0 1 0 0 1 1 0 1 0 1 1 0 0 1 0 0 0 0 0 1\n",
      " 0 1 0 1 0 0 1 1 1 1 0 1 0 0 0 0 1 1 0 1 1 1 1 0 0 1 0 0 1 0 0 1 0 1 0 0 1\n",
      " 1 1 0 0 0 0 1 1 1 0 0 0 1 0 0 0 1 0 1 1 0 1 1 1 0 1 0 0 1 0 0 1 0 0 1 0 0\n",
      " 1 0 1 0 1 1 1 0 1 0 0 0 1 1 1 1 1]\n",
      "[1. 0. 1. 1. 0. 1. 0. 1. 1. 0. 1. 0. 0. 0. 0. 0. 0. 1. 1. 1. 1. 1. 1. 1.\n",
      " 0. 1. 1. 1. 1. 1. 1. 0. 1. 0. 0. 1. 0. 0. 1. 0. 1. 1. 1. 1. 1. 1. 1. 0.\n",
      " 1. 0. 1. 0. 0. 0. 0. 1. 0. 0. 1. 1. 0. 1. 0. 1. 1. 0. 0. 1. 0. 0. 0. 0.\n",
      " 0. 1. 0. 1. 0. 1. 0. 0. 1. 1. 1. 1. 0. 1. 0. 0. 0. 0. 1. 1. 0. 1. 1. 1.\n",
      " 1. 0. 0. 1. 0. 0. 1. 0. 0. 1. 0. 1. 0. 0. 1. 1. 1. 0. 0. 0. 0. 1. 1. 1.\n",
      " 0. 0. 0. 1. 0. 0. 0. 1. 0. 1. 1. 0. 1. 1. 1. 0. 1. 0. 0. 1. 0. 0. 1. 0.\n",
      " 0. 1. 0. 0. 1. 0. 1. 0. 1. 1. 1. 0. 1. 0. 0. 0. 1. 1. 1. 1. 1.]\n"
     ]
    }
   ],
   "source": [
    "print(y_test)\n",
    "print(y_ped)"
   ]
  },
  {
   "cell_type": "code",
   "execution_count": 34,
   "metadata": {},
   "outputs": [],
   "source": [
    "copy = getPredict(x_test,w,labels = False)"
   ]
  },
  {
   "cell_type": "code",
   "execution_count": 35,
   "metadata": {},
   "outputs": [
    {
     "data": {
      "text/plain": [
       "array([9.99998712e-01, 1.34058464e-09, 9.99776972e-01, 9.99940871e-01,\n",
       "       9.61288756e-11, 9.99736269e-01, 2.01315846e-10, 9.99965991e-01,\n",
       "       9.99973271e-01, 3.46850625e-09, 9.99701843e-01, 3.05803862e-11,\n",
       "       4.82191097e-09, 3.77093742e-11, 6.30698534e-10, 1.53313128e-08,\n",
       "       4.87081643e-11, 9.99573067e-01, 9.99942392e-01, 9.99999241e-01,\n",
       "       9.99958743e-01, 9.99881681e-01, 9.99983286e-01, 9.99901631e-01,\n",
       "       9.35992378e-09, 9.99979752e-01, 9.99997864e-01, 9.99991743e-01,\n",
       "       9.99998749e-01, 9.99948897e-01, 9.99960188e-01, 7.08691010e-10,\n",
       "       9.99904890e-01, 2.79306007e-10, 1.75304797e-09, 9.99181396e-01,\n",
       "       1.87916260e-08, 9.79745903e-10, 9.99873637e-01, 5.70331320e-10,\n",
       "       9.99995985e-01, 9.98908831e-01, 9.99988950e-01, 9.99853336e-01,\n",
       "       9.99996968e-01, 9.99975088e-01, 9.99424106e-01, 3.49289630e-09,\n",
       "       9.99982518e-01, 5.49796720e-10, 9.99815222e-01, 2.35264695e-09,\n",
       "       6.52798684e-10, 2.08353447e-09, 2.85924669e-10, 9.99787618e-01,\n",
       "       6.59036349e-11, 1.03960799e-07, 9.99953689e-01, 9.99429377e-01,\n",
       "       1.97183517e-09, 9.99993772e-01, 2.92048350e-09, 9.99881017e-01,\n",
       "       9.99895073e-01, 5.23490224e-09, 1.47965567e-08, 9.99980073e-01,\n",
       "       2.01670507e-10, 1.07793555e-08, 5.85518784e-10, 2.10052993e-08,\n",
       "       1.53627760e-09, 9.99893000e-01, 8.10108033e-11, 9.99838861e-01,\n",
       "       1.45814773e-12, 9.99988820e-01, 6.24356944e-10, 2.34271220e-09,\n",
       "       9.99954445e-01, 9.99763221e-01, 9.99992493e-01, 9.99623323e-01,\n",
       "       2.00948957e-09, 9.99934161e-01, 3.08276908e-10, 1.07107942e-09,\n",
       "       8.91677558e-09, 3.59118827e-11, 9.99969046e-01, 9.98862480e-01,\n",
       "       8.13743989e-10, 9.99972559e-01, 9.97622551e-01, 9.99898852e-01,\n",
       "       9.99934794e-01, 5.54213968e-09, 6.32418343e-11, 9.99826708e-01,\n",
       "       2.04739062e-09, 1.84156704e-09, 9.99990027e-01, 4.52349893e-09,\n",
       "       5.96156702e-10, 9.99829431e-01, 8.31709618e-11, 9.89039292e-01,\n",
       "       6.11153892e-10, 1.28912225e-07, 9.99758436e-01, 9.99983231e-01,\n",
       "       9.99991060e-01, 1.22206425e-08, 2.98633180e-10, 9.66331403e-09,\n",
       "       1.24282509e-11, 9.99968482e-01, 9.99779759e-01, 9.99868262e-01,\n",
       "       7.86221972e-10, 1.41425250e-09, 8.85896363e-10, 9.99983051e-01,\n",
       "       1.82247415e-10, 5.53349569e-10, 4.40984458e-09, 9.99983737e-01,\n",
       "       5.47639093e-09, 9.99867208e-01, 9.99853854e-01, 3.30157116e-09,\n",
       "       9.99869852e-01, 9.99992345e-01, 9.99355055e-01, 9.52599299e-09,\n",
       "       9.99790273e-01, 1.15496812e-10, 3.05561121e-10, 9.99999124e-01,\n",
       "       8.08839103e-10, 1.58629356e-10, 9.99987382e-01, 1.47168389e-10,\n",
       "       4.10672487e-11, 9.99890135e-01, 1.39665591e-09, 2.69875545e-09,\n",
       "       9.99947045e-01, 8.19453660e-10, 9.99704497e-01, 1.81255647e-10,\n",
       "       9.99950881e-01, 9.99956148e-01, 9.99655912e-01, 4.51136362e-10,\n",
       "       9.99998090e-01, 1.41928814e-10, 8.19516922e-10, 3.38060117e-11,\n",
       "       9.99960391e-01, 9.99500795e-01, 9.99988960e-01, 9.99420510e-01,\n",
       "       9.99901515e-01])"
      ]
     },
     "execution_count": 35,
     "metadata": {},
     "output_type": "execute_result"
    }
   ],
   "source": [
    "copy"
   ]
  },
  {
   "cell_type": "code",
   "execution_count": null,
   "metadata": {},
   "outputs": [],
   "source": []
  }
 ],
 "metadata": {
  "kernelspec": {
   "display_name": "Python 3",
   "language": "python",
   "name": "python3"
  },
  "language_info": {
   "codemirror_mode": {
    "name": "ipython",
    "version": 3
   },
   "file_extension": ".py",
   "mimetype": "text/x-python",
   "name": "python",
   "nbconvert_exporter": "python",
   "pygments_lexer": "ipython3",
   "version": "3.7.3"
  }
 },
 "nbformat": 4,
 "nbformat_minor": 2
}
